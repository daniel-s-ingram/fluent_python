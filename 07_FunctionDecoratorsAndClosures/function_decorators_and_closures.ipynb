{
 "cells": [
  {
   "cell_type": "markdown",
   "metadata": {},
   "source": [
    "# [Fluent Python](https://www.amazon.com/Fluent-Python-Concise-Effective-Programming/dp/1491946008)\n",
    "## Chapter 7: Function Decorators and Closures"
   ]
  },
  {
   "cell_type": "code",
   "execution_count": 1,
   "metadata": {},
   "outputs": [],
   "source": [
    "def decorate(func):\n",
    "    def inner():\n",
    "        print('running inner()')\n",
    "    return inner\n",
    "\n",
    "@decorate\n",
    "def target():\n",
    "    print('running target()')"
   ]
  },
  {
   "cell_type": "code",
   "execution_count": 2,
   "metadata": {},
   "outputs": [
    {
     "name": "stdout",
     "output_type": "stream",
     "text": [
      "running inner()\n"
     ]
    }
   ],
   "source": [
    "target()"
   ]
  },
  {
   "cell_type": "code",
   "execution_count": 4,
   "metadata": {},
   "outputs": [
    {
     "name": "stdout",
     "output_type": "stream",
     "text": [
      "running register(<function f1 at 0x7f4901279400>)\n",
      "running register(<function f2 at 0x7f4901279730>)\n"
     ]
    }
   ],
   "source": [
    "registry = []\n",
    "\n",
    "def register(func):\n",
    "    print('running register(%s)' % func)\n",
    "    registry.append(func)\n",
    "    return func\n",
    "\n",
    "@register\n",
    "def f1():\n",
    "    print('running f1()')\n",
    "    \n",
    "@register\n",
    "def f2():\n",
    "    print('running f2()')\n",
    "    \n",
    "def f3():\n",
    "    print('running f3()')\n"
   ]
  },
  {
   "cell_type": "code",
   "execution_count": 5,
   "metadata": {},
   "outputs": [
    {
     "data": {
      "text/plain": [
       "[<function __main__.f1()>, <function __main__.f2()>]"
      ]
     },
     "execution_count": 5,
     "metadata": {},
     "output_type": "execute_result"
    }
   ],
   "source": [
    "registry"
   ]
  },
  {
   "cell_type": "code",
   "execution_count": 6,
   "metadata": {},
   "outputs": [
    {
     "name": "stdout",
     "output_type": "stream",
     "text": [
      "running f1()\n"
     ]
    }
   ],
   "source": [
    "f1()"
   ]
  },
  {
   "cell_type": "code",
   "execution_count": 9,
   "metadata": {},
   "outputs": [
    {
     "name": "stdout",
     "output_type": "stream",
     "text": [
      "running f2()\n"
     ]
    }
   ],
   "source": [
    "f2()"
   ]
  },
  {
   "cell_type": "code",
   "execution_count": 10,
   "metadata": {},
   "outputs": [],
   "source": [
    "from collections import namedtuple\n",
    "\n",
    "Customer = namedtuple('Customer', 'name fidelity')\n",
    "\n",
    "class LineItem:\n",
    "    def __init__(self, product, quantity, price):\n",
    "        self.product = product\n",
    "        self.quantity = quantity\n",
    "        self.price = price\n",
    "        \n",
    "    def total(self):\n",
    "        return self.price * self.quantity\n",
    "    \n",
    "class Order:\n",
    "    def __init__(self, customer, cart, promotion=None):\n",
    "        self.customer = customer\n",
    "        self.cart = list(cart)\n",
    "        self.promotion = promotion\n",
    "        \n",
    "    def total(self):\n",
    "        if not hasattr(self, '__total'):\n",
    "            self.__total = sum(item.total() for item in self.cart)\n",
    "        return self.__total\n",
    "    \n",
    "    def due(self):\n",
    "        if self.promotion is None:\n",
    "            discount = 0\n",
    "        else:\n",
    "            discount = self.promotion(self)\n",
    "        return self.total() - discount\n",
    "    \n",
    "    def __repr__(self):\n",
    "        fmt = '<Order total: {:.2f} due: {:.2f}'\n",
    "        return fmt.format(self.total(), self.due())"
   ]
  },
  {
   "cell_type": "code",
   "execution_count": 8,
   "metadata": {},
   "outputs": [],
   "source": [
    "promos = []\n",
    "\n",
    "def promotion(promo_func):\n",
    "    promos.append(promo_func)\n",
    "    return promo_func\n",
    "\n",
    "@promotion\n",
    "def fidelity(order):\n",
    "    \"\"\"5% discount for customers with 1000 or more fidelity points\"\"\"\n",
    "    return order.total() * 0.05 if order.customer.fidelity >= 1000 else 0\n",
    "\n",
    "@promotion\n",
    "def bulk_item(order):\n",
    "    \"\"\"10% discount for each LineItem with 20 or more units\"\"\"\n",
    "    discount = 0\n",
    "    for item in order.cart:\n",
    "        if item.quantity >= 20:\n",
    "            discount += item.total() * 0.1\n",
    "    return discount\n",
    "\n",
    "@promotion\n",
    "def large_order(order):\n",
    "    \"\"\"7% discount for orders with 10 or more distinct items\"\"\"\n",
    "    distinct_items = {item.product for item in order.cart}\n",
    "    if len(distinct_items) >= 10:\n",
    "        return order.total() * 0.07\n",
    "    return 0\n",
    "\n",
    "def best_promo(order):\n",
    "    \"\"\"Select best discount available\"\"\"\n",
    "    return max(promo(order) for promo in promos)"
   ]
  },
  {
   "cell_type": "code",
   "execution_count": 11,
   "metadata": {},
   "outputs": [],
   "source": []
  },
  {
   "cell_type": "code",
   "execution_count": 12,
   "metadata": {},
   "outputs": [],
   "source": [
    "import time\n",
    "\n",
    "def clock(func):\n",
    "    def clocked(*args):\n",
    "        t0 = time.perf_counter()\n",
    "        result = func(*args)\n",
    "        elapsed = time.perf_counter() - t0\n",
    "        name = func.__name__\n",
    "        arg_str = ', .'.join(repr(arg) for arg in args)\n",
    "        print('[%0.8fs] %s(%s) -> %r' % (elapsed, name, arg_str, result))\n",
    "        return result\n",
    "    return clocked"
   ]
  },
  {
   "cell_type": "code",
   "execution_count": 13,
   "metadata": {},
   "outputs": [],
   "source": [
    "@clock\n",
    "def factorial(n):\n",
    "    return 1 if n < 2 else n*factorial(n-1)"
   ]
  },
  {
   "cell_type": "code",
   "execution_count": 16,
   "metadata": {},
   "outputs": [
    {
     "name": "stdout",
     "output_type": "stream",
     "text": [
      "[0.00000075s] factorial(1) -> 1\n",
      "[0.00010750s] factorial(2) -> 2\n",
      "[0.00015998s] factorial(3) -> 6\n",
      "[0.00035720s] factorial(4) -> 24\n",
      "[0.00044665s] factorial(5) -> 120\n",
      "[0.00049648s] factorial(6) -> 720\n",
      "[0.00053700s] factorial(7) -> 5040\n",
      "[0.00058070s] factorial(8) -> 40320\n",
      "[0.00061829s] factorial(9) -> 362880\n",
      "[0.00066208s] factorial(10) -> 3628800\n"
     ]
    },
    {
     "data": {
      "text/plain": [
       "3628800"
      ]
     },
     "execution_count": 16,
     "metadata": {},
     "output_type": "execute_result"
    }
   ],
   "source": [
    "factorial(10)"
   ]
  },
  {
   "cell_type": "code",
   "execution_count": 17,
   "metadata": {},
   "outputs": [],
   "source": [
    "@clock\n",
    "def fibonacci(n):\n",
    "    if n < 2:\n",
    "        return n\n",
    "    return fibonacci(n-2) + fibonacci(n-1)"
   ]
  },
  {
   "cell_type": "code",
   "execution_count": 19,
   "metadata": {},
   "outputs": [
    {
     "name": "stdout",
     "output_type": "stream",
     "text": [
      "[0.00000051s] fibonacci(0) -> 0\n",
      "[0.00000059s] fibonacci(1) -> 1\n",
      "[0.00008490s] fibonacci(2) -> 1\n",
      "[0.00000042s] fibonacci(1) -> 1\n",
      "[0.00000046s] fibonacci(0) -> 0\n",
      "[0.00000048s] fibonacci(1) -> 1\n",
      "[0.00003804s] fibonacci(2) -> 1\n",
      "[0.00007780s] fibonacci(3) -> 2\n",
      "[0.00021526s] fibonacci(4) -> 3\n",
      "[0.00000022s] fibonacci(1) -> 1\n",
      "[0.00000032s] fibonacci(0) -> 0\n",
      "[0.00000049s] fibonacci(1) -> 1\n",
      "[0.00004050s] fibonacci(2) -> 1\n",
      "[0.00007915s] fibonacci(3) -> 2\n",
      "[0.00000021s] fibonacci(0) -> 0\n",
      "[0.00000022s] fibonacci(1) -> 1\n",
      "[0.00002345s] fibonacci(2) -> 1\n",
      "[0.00000020s] fibonacci(1) -> 1\n",
      "[0.00000025s] fibonacci(0) -> 0\n",
      "[0.00000020s] fibonacci(1) -> 1\n",
      "[0.00002337s] fibonacci(2) -> 1\n",
      "[0.00004564s] fibonacci(3) -> 2\n",
      "[0.00009150s] fibonacci(4) -> 3\n",
      "[0.00028992s] fibonacci(5) -> 5\n",
      "[0.00054664s] fibonacci(6) -> 8\n",
      "[0.00000047s] fibonacci(1) -> 1\n",
      "[0.00000031s] fibonacci(0) -> 0\n",
      "[0.00000034s] fibonacci(1) -> 1\n",
      "[0.00002813s] fibonacci(2) -> 1\n",
      "[0.00005630s] fibonacci(3) -> 2\n",
      "[0.00000034s] fibonacci(0) -> 0\n",
      "[0.00000029s] fibonacci(1) -> 1\n",
      "[0.00002682s] fibonacci(2) -> 1\n",
      "[0.00000034s] fibonacci(1) -> 1\n",
      "[0.00000030s] fibonacci(0) -> 0\n",
      "[0.00000031s] fibonacci(1) -> 1\n",
      "[0.00002732s] fibonacci(2) -> 1\n",
      "[0.00005469s] fibonacci(3) -> 2\n",
      "[0.00010844s] fibonacci(4) -> 3\n",
      "[0.00019206s] fibonacci(5) -> 5\n",
      "[0.00000033s] fibonacci(0) -> 0\n",
      "[0.00000031s] fibonacci(1) -> 1\n",
      "[0.00002737s] fibonacci(2) -> 1\n",
      "[0.00000029s] fibonacci(1) -> 1\n",
      "[0.00000027s] fibonacci(0) -> 0\n",
      "[0.00000031s] fibonacci(1) -> 1\n",
      "[0.00002763s] fibonacci(2) -> 1\n",
      "[0.00005489s] fibonacci(3) -> 2\n",
      "[0.00010903s] fibonacci(4) -> 3\n",
      "[0.00000032s] fibonacci(1) -> 1\n",
      "[0.00000027s] fibonacci(0) -> 0\n",
      "[0.00000028s] fibonacci(1) -> 1\n",
      "[0.00002698s] fibonacci(2) -> 1\n",
      "[0.00005386s] fibonacci(3) -> 2\n",
      "[0.00000032s] fibonacci(0) -> 0\n",
      "[0.00000030s] fibonacci(1) -> 1\n",
      "[0.00003940s] fibonacci(2) -> 1\n",
      "[0.00000025s] fibonacci(1) -> 1\n",
      "[0.00000029s] fibonacci(0) -> 0\n",
      "[0.00000027s] fibonacci(1) -> 1\n",
      "[0.00002749s] fibonacci(2) -> 1\n",
      "[0.00005419s] fibonacci(3) -> 2\n",
      "[0.00012104s] fibonacci(4) -> 3\n",
      "[0.00020207s] fibonacci(5) -> 5\n",
      "[0.00033844s] fibonacci(6) -> 8\n",
      "[0.00055789s] fibonacci(7) -> 13\n",
      "[0.00113586s] fibonacci(8) -> 21\n",
      "[0.00000031s] fibonacci(1) -> 1\n",
      "[0.00000028s] fibonacci(0) -> 0\n",
      "[0.00000028s] fibonacci(1) -> 1\n",
      "[0.00002750s] fibonacci(2) -> 1\n",
      "[0.00005821s] fibonacci(3) -> 2\n",
      "[0.00000031s] fibonacci(0) -> 0\n",
      "[0.00000030s] fibonacci(1) -> 1\n",
      "[0.00002720s] fibonacci(2) -> 1\n",
      "[0.00000030s] fibonacci(1) -> 1\n",
      "[0.00000028s] fibonacci(0) -> 0\n",
      "[0.00000028s] fibonacci(1) -> 1\n",
      "[0.00002712s] fibonacci(2) -> 1\n",
      "[0.00005561s] fibonacci(3) -> 2\n",
      "[0.00010949s] fibonacci(4) -> 3\n",
      "[0.00019505s] fibonacci(5) -> 5\n",
      "[0.00000032s] fibonacci(0) -> 0\n",
      "[0.00000033s] fibonacci(1) -> 1\n",
      "[0.00002905s] fibonacci(2) -> 1\n",
      "[0.00000029s] fibonacci(1) -> 1\n",
      "[0.00000032s] fibonacci(0) -> 0\n",
      "[0.00000031s] fibonacci(1) -> 1\n",
      "[0.00002691s] fibonacci(2) -> 1\n",
      "[0.00005705s] fibonacci(3) -> 2\n",
      "[0.00011308s] fibonacci(4) -> 3\n",
      "[0.00000030s] fibonacci(1) -> 1\n",
      "[0.00000030s] fibonacci(0) -> 0\n",
      "[0.00000029s] fibonacci(1) -> 1\n",
      "[0.00002728s] fibonacci(2) -> 1\n",
      "[0.00005375s] fibonacci(3) -> 2\n",
      "[0.00000034s] fibonacci(0) -> 0\n",
      "[0.00000031s] fibonacci(1) -> 1\n",
      "[0.00002818s] fibonacci(2) -> 1\n",
      "[0.00000030s] fibonacci(1) -> 1\n",
      "[0.00000030s] fibonacci(0) -> 0\n",
      "[0.00000029s] fibonacci(1) -> 1\n",
      "[0.00012213s] fibonacci(2) -> 1\n",
      "[0.00015509s] fibonacci(3) -> 2\n",
      "[0.00021034s] fibonacci(4) -> 3\n",
      "[0.00029095s] fibonacci(5) -> 5\n",
      "[0.00043137s] fibonacci(6) -> 8\n",
      "[0.00081352s] fibonacci(7) -> 13\n",
      "[0.00000023s] fibonacci(0) -> 0\n",
      "[0.00000025s] fibonacci(1) -> 1\n",
      "[0.00002764s] fibonacci(2) -> 1\n",
      "[0.00000017s] fibonacci(1) -> 1\n",
      "[0.00000018s] fibonacci(0) -> 0\n",
      "[0.00000028s] fibonacci(1) -> 1\n",
      "[0.00003062s] fibonacci(2) -> 1\n",
      "[0.00005794s] fibonacci(3) -> 2\n",
      "[0.00011408s] fibonacci(4) -> 3\n",
      "[0.00000017s] fibonacci(1) -> 1\n",
      "[0.00000019s] fibonacci(0) -> 0\n",
      "[0.00000023s] fibonacci(1) -> 1\n",
      "[0.00002746s] fibonacci(2) -> 1\n",
      "[0.00005426s] fibonacci(3) -> 2\n",
      "[0.00000019s] fibonacci(0) -> 0\n",
      "[0.00000020s] fibonacci(1) -> 1\n",
      "[0.00002714s] fibonacci(2) -> 1\n",
      "[0.00000019s] fibonacci(1) -> 1\n",
      "[0.00000019s] fibonacci(0) -> 0\n",
      "[0.00000020s] fibonacci(1) -> 1\n",
      "[0.00002710s] fibonacci(2) -> 1\n",
      "[0.00005576s] fibonacci(3) -> 2\n",
      "[0.00010996s] fibonacci(4) -> 3\n",
      "[0.00019083s] fibonacci(5) -> 5\n",
      "[0.00033173s] fibonacci(6) -> 8\n",
      "[0.00000019s] fibonacci(1) -> 1\n",
      "[0.00000020s] fibonacci(0) -> 0\n",
      "[0.00000023s] fibonacci(1) -> 1\n",
      "[0.00002736s] fibonacci(2) -> 1\n",
      "[0.00005588s] fibonacci(3) -> 2\n",
      "[0.00000019s] fibonacci(0) -> 0\n",
      "[0.00000022s] fibonacci(1) -> 1\n",
      "[0.00002893s] fibonacci(2) -> 1\n",
      "[0.00000018s] fibonacci(1) -> 1\n",
      "[0.00000019s] fibonacci(0) -> 0\n",
      "[0.00000020s] fibonacci(1) -> 1\n",
      "[0.00002825s] fibonacci(2) -> 1\n",
      "[0.00005525s] fibonacci(3) -> 2\n",
      "[0.00011092s] fibonacci(4) -> 3\n",
      "[0.00019390s] fibonacci(5) -> 5\n",
      "[0.00000019s] fibonacci(0) -> 0\n",
      "[0.00000025s] fibonacci(1) -> 1\n",
      "[0.00002741s] fibonacci(2) -> 1\n",
      "[0.00000017s] fibonacci(1) -> 1\n",
      "[0.00000018s] fibonacci(0) -> 0\n",
      "[0.00000020s] fibonacci(1) -> 1\n",
      "[0.00002739s] fibonacci(2) -> 1\n",
      "[0.00005449s] fibonacci(3) -> 2\n",
      "[0.00010814s] fibonacci(4) -> 3\n",
      "[0.00000017s] fibonacci(1) -> 1\n",
      "[0.00000020s] fibonacci(0) -> 0\n",
      "[0.00000019s] fibonacci(1) -> 1\n",
      "[0.00002686s] fibonacci(2) -> 1\n",
      "[0.00005671s] fibonacci(3) -> 2\n",
      "[0.00000018s] fibonacci(0) -> 0\n",
      "[0.00000021s] fibonacci(1) -> 1\n",
      "[0.00002741s] fibonacci(2) -> 1\n",
      "[0.00000018s] fibonacci(1) -> 1\n",
      "[0.00000022s] fibonacci(0) -> 0\n",
      "[0.00000025s] fibonacci(1) -> 1\n",
      "[0.00004319s] fibonacci(2) -> 1\n",
      "[0.00007036s] fibonacci(3) -> 2\n",
      "[0.00012440s] fibonacci(4) -> 3\n",
      "[0.00020797s] fibonacci(5) -> 5\n",
      "[0.00034367s] fibonacci(6) -> 8\n",
      "[0.00056468s] fibonacci(7) -> 13\n",
      "[0.00095942s] fibonacci(8) -> 21\n",
      "[0.00180429s] fibonacci(9) -> 34\n",
      "[0.00296800s] fibonacci(10) -> 55\n"
     ]
    },
    {
     "data": {
      "text/plain": [
       "55"
      ]
     },
     "execution_count": 19,
     "metadata": {},
     "output_type": "execute_result"
    }
   ],
   "source": [
    "fibonacci(10)"
   ]
  },
  {
   "cell_type": "code",
   "execution_count": 20,
   "metadata": {},
   "outputs": [],
   "source": [
    "import functools\n",
    "\n",
    "@functools.lru_cache()\n",
    "@clock\n",
    "def fibonacci(n):\n",
    "    if n < 2:\n",
    "        return n\n",
    "    return fibonacci(n-2) + fibonacci(n-1)"
   ]
  },
  {
   "cell_type": "code",
   "execution_count": 22,
   "metadata": {},
   "outputs": [
    {
     "name": "stdout",
     "output_type": "stream",
     "text": [
      "[0.00000182s] fibonacci(11) -> 89\n",
      "[0.00011844s] fibonacci(12) -> 144\n",
      "[0.00000263s] fibonacci(13) -> 233\n",
      "[0.00022623s] fibonacci(14) -> 377\n",
      "[0.00000217s] fibonacci(15) -> 610\n",
      "[0.00031859s] fibonacci(16) -> 987\n",
      "[0.00000220s] fibonacci(17) -> 1597\n",
      "[0.00040460s] fibonacci(18) -> 2584\n",
      "[0.00000217s] fibonacci(19) -> 4181\n",
      "[0.00048944s] fibonacci(20) -> 6765\n",
      "[0.00000153s] fibonacci(21) -> 10946\n",
      "[0.00057735s] fibonacci(22) -> 17711\n",
      "[0.00000206s] fibonacci(23) -> 28657\n",
      "[0.00065695s] fibonacci(24) -> 46368\n",
      "[0.00000212s] fibonacci(25) -> 75025\n",
      "[0.00074866s] fibonacci(26) -> 121393\n",
      "[0.00000221s] fibonacci(27) -> 196418\n",
      "[0.00084111s] fibonacci(28) -> 317811\n",
      "[0.00000214s] fibonacci(29) -> 514229\n",
      "[0.00093371s] fibonacci(30) -> 832040\n"
     ]
    },
    {
     "data": {
      "text/plain": [
       "832040"
      ]
     },
     "execution_count": 22,
     "metadata": {},
     "output_type": "execute_result"
    }
   ],
   "source": [
    "fibonacci(30)"
   ]
  },
  {
   "cell_type": "code",
   "execution_count": null,
   "metadata": {},
   "outputs": [],
   "source": []
  }
 ],
 "metadata": {
  "kernelspec": {
   "display_name": "Python 3",
   "language": "python",
   "name": "python3"
  },
  "language_info": {
   "codemirror_mode": {
    "name": "ipython",
    "version": 3
   },
   "file_extension": ".py",
   "mimetype": "text/x-python",
   "name": "python",
   "nbconvert_exporter": "python",
   "pygments_lexer": "ipython3",
   "version": "3.5.2"
  }
 },
 "nbformat": 4,
 "nbformat_minor": 2
}
