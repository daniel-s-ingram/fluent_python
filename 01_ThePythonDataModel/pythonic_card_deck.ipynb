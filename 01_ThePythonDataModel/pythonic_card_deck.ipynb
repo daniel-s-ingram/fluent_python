{
 "cells": [
  {
   "cell_type": "markdown",
   "metadata": {},
   "source": [
    "# [Fluent Python](https://www.amazon.com/Fluent-Python-Concise-Effective-Programming/dp/1491946008) by [Luciano Ramalho](https://github.com/ramalho)\n",
    "## Chapter 1: The Python Data Model\n",
    "### Example: A Pythonic Card Deck\n",
    "\n",
    "This example shows the power of implementing just three special methods in a user-defined Python class: \\_\\_init\\_\\_, \\_\\_len\\_\\_, and \\_\\_getitem\\_\\_. These methods are also known as _dunder_ (<i>d</i>ouble-<i>under</i>score) methods. They are called by the Python intepreter under certain circumstances and allow any class to behave like a builtin type.\n",
    "\n",
    "We're using a namedtuple from the collections module as an intuitive representation of a single card in a French deck; every card is fully represented by its rank and its suit, so these are the names of our tuple fields."
   ]
  },
  {
   "cell_type": "code",
   "execution_count": 1,
   "metadata": {},
   "outputs": [],
   "source": [
    "import collections\n",
    "\n",
    "Card = collections.namedtuple('Card', ['rank', 'suit'])\n",
    "\n",
    "class FrenchDeck:\n",
    "    ranks = [str(n) for n in range(2, 11)] + list('JQKA')\n",
    "    suits = 'spades diamonds clubs hearts'.split(' ')\n",
    "    \n",
    "    def __init__(self):\n",
    "        self._cards = [Card(rank, suit) for suit in self.suits\n",
    "                                        for rank in self.ranks]\n",
    "    \n",
    "    def __len__(self):\n",
    "        return len(self._cards)\n",
    "    \n",
    "    def __getitem__(self, position):\n",
    "        return self._cards[position]"
   ]
  },
  {
   "cell_type": "code",
   "execution_count": 2,
   "metadata": {},
   "outputs": [],
   "source": [
    "deck = FrenchDeck()"
   ]
  },
  {
   "cell_type": "markdown",
   "metadata": {},
   "source": [
    "Okay, we've created an instance of our _FrenchDeck_ class called _deck_. Now, let's see what all we can do with what looks like a simple (but beautiful) class. "
   ]
  },
  {
   "cell_type": "code",
   "execution_count": 3,
   "metadata": {},
   "outputs": [
    {
     "data": {
      "text/plain": [
       "52"
      ]
     },
     "execution_count": 3,
     "metadata": {},
     "output_type": "execute_result"
    }
   ],
   "source": [
    "len(deck)"
   ]
  },
  {
   "cell_type": "markdown",
   "metadata": {},
   "source": [
    "Because we implemented the special method \\_\\_len\\_\\_, we are able to use the builtin len() function on any instance of our class! Whenever len(x) is called in a program, Python attempts to call the \\_\\_len\\_\\_ method of x and returns whatever it returns __if__ it exists and throws a TypeError if it doesn't. Without implementing \\_\\_len\\_\\_, we would not had been able to figure out how many cards were in deck without violating encapsulation and calling len() on the \\_cards attribute of deck (it would be easy to do this since it's Python but you still shouldn't do it).\n",
    "\n",
    "Let's see what else we can do!"
   ]
  },
  {
   "cell_type": "code",
   "execution_count": 4,
   "metadata": {},
   "outputs": [
    {
     "data": {
      "text/plain": [
       "Card(rank='2', suit='spades')"
      ]
     },
     "execution_count": 4,
     "metadata": {},
     "output_type": "execute_result"
    }
   ],
   "source": [
    "deck[0]"
   ]
  }
 ],
 "metadata": {
  "kernelspec": {
   "display_name": "Python 3",
   "language": "python",
   "name": "python3"
  },
  "language_info": {
   "codemirror_mode": {
    "name": "ipython",
    "version": 3
   },
   "file_extension": ".py",
   "mimetype": "text/x-python",
   "name": "python",
   "nbconvert_exporter": "python",
   "pygments_lexer": "ipython3",
   "version": "3.5.2"
  }
 },
 "nbformat": 4,
 "nbformat_minor": 2
}
